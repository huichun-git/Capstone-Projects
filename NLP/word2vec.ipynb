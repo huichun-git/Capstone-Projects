{
 "cells": [
  {
   "cell_type": "code",
   "execution_count": 1,
   "metadata": {},
   "outputs": [
    {
     "name": "stdout",
     "output_type": "stream",
     "text": [
      "Requirement already satisfied: gensim in c:\\python36\\lib\\site-packages\nRequirement already satisfied: numpy>=1.11.3 in c:\\python36\\lib\\site-packages (from gensim)\nRequirement already satisfied: smart-open>=1.2.1 in c:\\python36\\lib\\site-packages (from gensim)\nRequirement already satisfied: six>=1.5.0 in c:\\python36\\lib\\site-packages (from gensim)\nRequirement already satisfied: scipy>=0.18.1 in c:\\python36\\lib\\site-packages (from gensim)\nRequirement already satisfied: boto>=2.32 in c:\\python36\\lib\\site-packages (from smart-open>=1.2.1->gensim)\nRequirement already satisfied: bz2file in c:\\python36\\lib\\site-packages (from smart-open>=1.2.1->gensim)\nRequirement already satisfied: requests in c:\\python36\\lib\\site-packages (from smart-open>=1.2.1->gensim)\nRequirement already satisfied: boto3 in c:\\python36\\lib\\site-packages (from smart-open>=1.2.1->gensim)\nRequirement already satisfied: chardet<3.1.0,>=3.0.2 in c:\\python36\\lib\\site-packages (from requests->smart-open>=1.2.1->gensim)\nRequirement already satisfied: certifi>=2017.4.17 in c:\\python36\\lib\\site-packages (from requests->smart-open>=1.2.1->gensim)\nRequirement already satisfied: idna<2.7,>=2.5 in c:\\python36\\lib\\site-packages (from requests->smart-open>=1.2.1->gensim)\nRequirement already satisfied: urllib3<1.23,>=1.21.1 in c:\\python36\\lib\\site-packages (from requests->smart-open>=1.2.1->gensim)\nRequirement already satisfied: s3transfer<0.2.0,>=0.1.10 in c:\\python36\\lib\\site-packages (from boto3->smart-open>=1.2.1->gensim)\nRequirement already satisfied: jmespath<1.0.0,>=0.7.1 in c:\\python36\\lib\\site-packages (from boto3->smart-open>=1.2.1->gensim)\nRequirement already satisfied: botocore<1.11.0,>=1.10.5 in c:\\python36\\lib\\site-packages (from boto3->smart-open>=1.2.1->gensim)\nRequirement already satisfied: docutils>=0.10 in c:\\python36\\lib\\site-packages (from botocore<1.11.0,>=1.10.5->boto3->smart-open>=1.2.1->gensim)\nRequirement already satisfied: python-dateutil<2.7.0,>=2.1 in c:\\python36\\lib\\site-packages (from botocore<1.11.0,>=1.10.5->boto3->smart-open>=1.2.1->gensim)\n"
     ]
    },
    {
     "name": "stderr",
     "output_type": "stream",
     "text": [
      "You are using pip version 9.0.3, however version 10.0.1 is available.\nYou should consider upgrading via the 'python -m pip install --upgrade pip' command.\n"
     ]
    }
   ],
   "source": [
    "!pip install gensim"
   ]
  },
  {
   "cell_type": "code",
   "execution_count": 3,
   "metadata": {
    "collapsed": true
   },
   "outputs": [],
   "source": [
    "from gensim.utils import simple_preprocess, simple_tokenize #text processing\n",
    "from gensim.models import Word2Vec #prebuilt word to vec implementation\n",
    "import glob #finds all pathnames matching a pattern, like regex\n",
    "import codecs #unicode support when reading files\n",
    "from multiprocessing import cpu_count #use to get number of cpus on host machine\n",
    "from string import punctuation #string  containing all puncuation"
   ]
  },
  {
   "cell_type": "code",
   "execution_count": 3,
   "metadata": {},
   "outputs": [
    {
     "name": "stdout",
     "output_type": "stream",
     "text": [
      "Found books:\n"
     ]
    },
    {
     "data": {
      "text/plain": [
       "['data\\\\stephen_hawking_a_brief_history_of_time.txt']"
      ]
     },
     "execution_count": 3,
     "metadata": {},
     "output_type": "execute_result"
    }
   ],
   "source": [
    "book_filenames = sorted(glob.glob(\"data/*.txt\"))\n",
    "print(\"Found books:\")\n",
    "book_filenames"
   ]
  },
  {
   "cell_type": "code",
   "execution_count": 5,
   "metadata": {},
   "outputs": [
    {
     "name": "stdout",
     "output_type": "stream",
     "text": [
      "Corpus is 387063 characters long\n"
     ]
    }
   ],
   "source": [
    "corpus_raw = u\"\"\n",
    "#for each book, read it, open it in utf 8 format, \n",
    "#add it to the raw corpus\n",
    "for book_filename in book_filenames:\n",
    "    with codecs.open(book_filename, \"r\", \"utf-8\") as book_file:\n",
    "        corpus_raw += book_file.read()\n",
    "\n",
    "print(\"Corpus is {0} characters long\".format(len(corpus_raw)))"
   ]
  },
  {
   "cell_type": "code",
   "execution_count": 7,
   "metadata": {},
   "outputs": [],
   "source": [
    "sentences = corpus_raw.split('\\n') #split at new lines\n",
    "sentences =  filter(None, sentences) # remove empty strings\n",
    "sentences =  list(map(simple_preprocess,sentences)) #clean text "
   ]
  },
  {
   "cell_type": "code",
   "execution_count": 87,
   "metadata": {},
   "outputs": [
    {
     "data": {
      "text/plain": [
       "4"
      ]
     },
     "execution_count": 87,
     "metadata": {},
     "output_type": "execute_result"
    }
   ],
   "source": [
    "workers=cpu_count()\n",
    "workers"
   ]
  },
  {
   "cell_type": "code",
   "execution_count": 72,
   "metadata": {},
   "outputs": [],
   "source": [
    "model = Word2Vec(sentences, size=100, window=5, min_count=5, workers=workers) #fit model"
   ]
  },
  {
   "cell_type": "code",
   "execution_count": 73,
   "metadata": {},
   "outputs": [
    {
     "data": {
      "text/plain": [
       "1387"
      ]
     },
     "execution_count": 73,
     "metadata": {},
     "output_type": "execute_result"
    }
   ],
   "source": [
    "len(model.wv.vocab) #size of vocab"
   ]
  },
  {
   "cell_type": "code",
   "execution_count": 74,
   "metadata": {},
   "outputs": [
    {
     "data": {
      "text/plain": [
       "(1387, 100)"
      ]
     },
     "execution_count": 74,
     "metadata": {},
     "output_type": "execute_result"
    }
   ],
   "source": [
    "model.wv.vectors.shape  # how we can access the word embeddings matrix"
   ]
  },
  {
   "cell_type": "code",
   "execution_count": 75,
   "metadata": {},
   "outputs": [
    {
     "data": {
      "text/plain": [
       "True"
      ]
     },
     "execution_count": 75,
     "metadata": {},
     "output_type": "execute_result"
    }
   ],
   "source": [
    "'space'  in model.wv.vocab #check if 'space' is in vocab"
   ]
  },
  {
   "cell_type": "code",
   "execution_count": 76,
   "metadata": {},
   "outputs": [
    {
     "data": {
      "text/plain": [
       "array([-0.01465496,  0.01855453,  0.0022719 , -0.06112096, -0.02817178,\n        0.04477079,  0.04597754, -0.03425493, -0.0090222 , -0.04977283,\n       -0.07500474,  0.0224941 , -0.02319601,  0.01396265, -0.01555628,\n        0.01490307,  0.00677013,  0.06195471,  0.01085262, -0.0126013 ,\n       -0.07233048,  0.09994438,  0.03814352, -0.04395657, -0.00201381,\n        0.02499729, -0.06253047,  0.01077667, -0.13164003,  0.06797785,\n       -0.02049701, -0.01650673, -0.01370123,  0.08436047,  0.05432375,\n        0.07485294,  0.04716923, -0.02200927, -0.08238328, -0.08254569,\n        0.02941178,  0.01398645,  0.0251173 ,  0.0441589 , -0.00354505,\n       -0.03939682,  0.00875462,  0.03850073, -0.03537133,  0.05729111,\n       -0.01879443,  0.01179119,  0.0062182 , -0.02885175, -0.02580679,\n       -0.02727155,  0.01287902,  0.02287446, -0.04475835, -0.07670359,\n       -0.07455707, -0.06913875,  0.01325182, -0.02264668,  0.08108921,\n       -0.01915772, -0.07557271,  0.09637232, -0.00984656,  0.11343061,\n       -0.06150332,  0.05750645, -0.08280567,  0.08429078, -0.02159378,\n        0.03321665, -0.10956032, -0.11009229, -0.02104891, -0.05591614,\n       -0.01939787, -0.04898057, -0.05034466,  0.07552485,  0.02456906,\n       -0.02506255,  0.01712523, -0.05411512, -0.08741792, -0.03592748,\n       -0.01579436,  0.00221781,  0.05197438, -0.07145099,  0.04833435,\n        0.00926354,  0.01623574,  0.06132819,  0.04354014,  0.04337577],\n      dtype=float32)"
      ]
     },
     "execution_count": 76,
     "metadata": {},
     "output_type": "execute_result"
    }
   ],
   "source": [
    "model.wv['man'] #get word vector for man"
   ]
  },
  {
   "cell_type": "code",
   "execution_count": 77,
   "metadata": {},
   "outputs": [
    {
     "data": {
      "text/plain": [
       "[('quantum', 0.9994014501571655),\n ('general', 0.999215841293335),\n ('mechanics', 0.9992020130157471),\n ('according', 0.9990145564079285),\n ('principle', 0.9990142583847046),\n ('when', 0.9989587068557739),\n ('laws', 0.9989577531814575),\n ('means', 0.998950183391571),\n ('light', 0.9989355206489563),\n ('boundary', 0.99889075756073)]"
      ]
     },
     "execution_count": 77,
     "metadata": {},
     "output_type": "execute_result"
    }
   ],
   "source": [
    "model.wv.most_similar('relativity')"
   ]
  },
  {
   "cell_type": "code",
   "execution_count": 78,
   "metadata": {},
   "outputs": [
    {
     "data": {
      "text/plain": [
       "[('imaginary', 0.998525857925415),\n ('arrow', 0.9983617067337036),\n ('figure', 0.9967396855354309),\n ('didn', 0.9965739846229553),\n ('pulse', 0.9965206384658813),\n ('college', 0.9964756965637207),\n ('tube', 0.9964718222618103),\n ('creation', 0.9964587688446045),\n ('piccadilly', 0.9955571889877319),\n ('discussed', 0.9955341815948486)]"
      ]
     },
     "execution_count": 78,
     "metadata": {},
     "output_type": "execute_result"
    }
   ],
   "source": [
    "model.wv.most_similar(positive=['space','escape'], negative=['me']) "
   ]
  },
  {
   "cell_type": "code",
   "execution_count": 79,
   "metadata": {},
   "outputs": [],
   "source": [
    "from sklearn.manifold import TSNE #from dimensionality reduction\n",
    "import pandas as pd "
   ]
  },
  {
   "cell_type": "code",
   "execution_count": null,
   "metadata": {},
   "outputs": [],
   "source": [
    "\n",
    "n = 1000\n",
    "tsne = TSNE(n_components=2, perplexity=3,random_state=0)\n",
    "tsne_vectors = tsne.fit_transform(model.wv.vectors[:n])"
   ]
  },
  {
   "cell_type": "code",
   "execution_count": null,
   "metadata": {},
   "outputs": [],
   "source": [
    "words = model.wv.index2word[:n]\n",
    "    \n",
    "\n",
    "\n"
   ]
  },
  {
   "cell_type": "code",
   "execution_count": 92,
   "metadata": {},
   "outputs": [
    {
     "data": {
      "text/html": [
       "\n",
       "    <div class=\"bk-root\">\n",
       "        <a href=\"https://bokeh.pydata.org\" target=\"_blank\" class=\"bk-logo bk-logo-small bk-logo-notebook\"></a>\n",
       "        <span id=\"52d20fb9-29f8-404f-8ca5-085773a2d79c\">Loading BokehJS ...</span>\n",
       "    </div>"
      ],
      "text/plain": [
       "\n",
       "    <div class=\"bk-root\">\n",
       "        <a href=\"https://bokeh.pydata.org\" target=\"_blank\" class=\"bk-logo bk-logo-small bk-logo-notebook\"></a>\n",
       "        <span id=\"52d20fb9-29f8-404f-8ca5-085773a2d79c\">Loading BokehJS ...</span>\n",
       "    </div>"
      ]
     },
     "execution_count": 0,
     "metadata": {},
     "output_type": "execute_result"
    },
    {
     "data": {
      "text/html": [
       "\n",
       "    <div class=\"bk-root\">\n",
       "        <a href=\"https://bokeh.pydata.org\" target=\"_blank\" class=\"bk-logo bk-logo-small bk-logo-notebook\"></a>\n",
       "        <span id=\"52d20fb9-29f8-404f-8ca5-085773a2d79c\">Loading BokehJS ...</span>\n",
       "    </div>"
      ],
      "text/plain": [
       "\n",
       "    <div class=\"bk-root\">\n",
       "        <a href=\"https://bokeh.pydata.org\" target=\"_blank\" class=\"bk-logo bk-logo-small bk-logo-notebook\"></a>\n",
       "        <span id=\"52d20fb9-29f8-404f-8ca5-085773a2d79c\">Loading BokehJS ...</span>\n",
       "    </div>"
      ]
     },
     "execution_count": 0,
     "metadata": {},
     "output_type": "execute_result"
    }
   ],
   "source": [
    "from bokeh.plotting import figure, show, output_notebook\n",
    "from bokeh.models import HoverTool, ColumnDataSource, value\n",
    "output_notebook()\n"
   ]
  },
  {
   "cell_type": "code",
   "execution_count": 93,
   "metadata": {},
   "outputs": [
    {
     "data": {
      "text/html": [
       "<div>\n",
       "<style scoped>\n",
       "    .dataframe tbody tr th:only-of-type {\n",
       "        vertical-align: middle;\n",
       "    }\n",
       "\n",
       "    .dataframe tbody tr th {\n",
       "        vertical-align: top;\n",
       "    }\n",
       "\n",
       "    .dataframe thead th {\n",
       "        text-align: right;\n",
       "    }\n",
       "</style>\n",
       "<table border=\"1\" class=\"dataframe\">\n",
       "  <thead>\n",
       "    <tr style=\"text-align: right;\">\n",
       "      <th></th>\n",
       "      <th>x_coord</th>\n",
       "      <th>y_coord</th>\n",
       "    </tr>\n",
       "    <tr>\n",
       "      <th>word</th>\n",
       "      <th></th>\n",
       "      <th></th>\n",
       "    </tr>\n",
       "  </thead>\n",
       "  <tbody>\n",
       "    <tr>\n",
       "      <th>the</th>\n",
       "      <td>-36.033222</td>\n",
       "      <td>-51.231850</td>\n",
       "    </tr>\n",
       "    <tr>\n",
       "      <th>of</th>\n",
       "      <td>-57.165684</td>\n",
       "      <td>-25.074642</td>\n",
       "    </tr>\n",
       "    <tr>\n",
       "      <th>to</th>\n",
       "      <td>-19.744776</td>\n",
       "      <td>-81.412506</td>\n",
       "    </tr>\n",
       "    <tr>\n",
       "      <th>in</th>\n",
       "      <td>-11.125856</td>\n",
       "      <td>-51.300083</td>\n",
       "    </tr>\n",
       "    <tr>\n",
       "      <th>that</th>\n",
       "      <td>-31.442764</td>\n",
       "      <td>-81.315987</td>\n",
       "    </tr>\n",
       "  </tbody>\n",
       "</table>\n",
       "</div>"
      ],
      "text/plain": [
       "<div>\n",
       "<style scoped>\n",
       "    .dataframe tbody tr th:only-of-type {\n",
       "        vertical-align: middle;\n",
       "    }\n",
       "\n",
       "    .dataframe tbody tr th {\n",
       "        vertical-align: top;\n",
       "    }\n",
       "\n",
       "    .dataframe thead th {\n",
       "        text-align: right;\n",
       "    }\n",
       "</style>\n",
       "<table border=\"1\" class=\"dataframe\">\n",
       "  <thead>\n",
       "    <tr style=\"text-align: right;\">\n",
       "      <th></th>\n",
       "      <th>x_coord</th>\n",
       "      <th>y_coord</th>\n",
       "    </tr>\n",
       "    <tr>\n",
       "      <th>word</th>\n",
       "      <th></th>\n",
       "      <th></th>\n",
       "    </tr>\n",
       "  </thead>\n",
       "  <tbody>\n",
       "    <tr>\n",
       "      <th>the</th>\n",
       "      <td>-36.033222</td>\n",
       "      <td>-51.231850</td>\n",
       "    </tr>\n",
       "    <tr>\n",
       "      <th>of</th>\n",
       "      <td>-57.165684</td>\n",
       "      <td>-25.074642</td>\n",
       "    </tr>\n",
       "    <tr>\n",
       "      <th>to</th>\n",
       "      <td>-19.744776</td>\n",
       "      <td>-81.412506</td>\n",
       "    </tr>\n",
       "    <tr>\n",
       "      <th>in</th>\n",
       "      <td>-11.125856</td>\n",
       "      <td>-51.300083</td>\n",
       "    </tr>\n",
       "    <tr>\n",
       "      <th>that</th>\n",
       "      <td>-31.442764</td>\n",
       "      <td>-81.315987</td>\n",
       "    </tr>\n",
       "  </tbody>\n",
       "</table>\n",
       "</div>"
      ]
     },
     "execution_count": 93,
     "metadata": {},
     "output_type": "execute_result"
    }
   ],
   "source": [
    "#create a dataframe to plot with\n",
    "df = pd.DataFrame(tsne_vectors,index=words,columns=['x_coord','y_coord'])\n",
    "df.index.name = 'word'\n",
    "df.head()"
   ]
  },
  {
   "cell_type": "code",
   "execution_count": 94,
   "metadata": {},
   "outputs": [],
   "source": [
    "# add our DataFrame as a ColumnDataSource for Bokeh\n",
    "plot_data = ColumnDataSource(df)\n",
    "\n",
    "# create the plot and configure the\n",
    "# title, dimensions, and tools\n",
    "tsne_plot = figure(title=u't-SNE Word Embeddings',\n",
    "                   plot_width = 800,\n",
    "                   plot_height = 800,\n",
    "                   tools= (u'pan, wheel_zoom, box_zoom,'\n",
    "                           u'box_select, reset'),\n",
    "                   active_scroll=u'wheel_zoom')"
   ]
  },
  {
   "cell_type": "code",
   "execution_count": 99,
   "metadata": {},
   "outputs": [
    {
     "data": {
      "text/html": [
       "\n",
       "<div class=\"bk-root\">\n",
       "    <div class=\"bk-plotdiv\" id=\"a4340a3f-d01a-4da1-9093-3cb56f79ba35\"></div>\n",
       "</div>"
      ],
      "text/plain": [
       "\n",
       "<div class=\"bk-root\">\n",
       "    <div class=\"bk-plotdiv\" id=\"a4340a3f-d01a-4da1-9093-3cb56f79ba35\"></div>\n",
       "</div>"
      ]
     },
     "execution_count": 0,
     "metadata": {},
     "output_type": "execute_result"
    },
    {
     "data": {
      "text/html": [
       "\n",
       "<div class=\"bk-root\">\n",
       "    <div class=\"bk-plotdiv\" id=\"a4340a3f-d01a-4da1-9093-3cb56f79ba35\"></div>\n",
       "</div>"
      ],
      "text/plain": [
       "\n",
       "<div class=\"bk-root\">\n",
       "    <div class=\"bk-plotdiv\" id=\"a4340a3f-d01a-4da1-9093-3cb56f79ba35\"></div>\n",
       "</div>"
      ]
     },
     "execution_count": 0,
     "metadata": {},
     "output_type": "execute_result"
    }
   ],
   "source": [
    "# add a hover tool to display words on roll-over\n",
    "tsne_plot.add_tools( HoverTool(tooltips = u'@word') )\n",
    "\n",
    "# draw the words as circles on the plot\n",
    "tsne_plot.circle(u'x_coord', u'y_coord', source=plot_data,\n",
    "                 color=u'blue', line_alpha=0.2, fill_alpha=0.1,\n",
    "                 size=10, hover_line_color=u'black')\n",
    "\n",
    "# configure visual elements of the plot\n",
    "tsne_plot.title.text_font_size = value(u'16pt')\n",
    "tsne_plot.xaxis.visible = False\n",
    "tsne_plot.yaxis.visible = False\n",
    "tsne_plot.grid.grid_line_color = None\n",
    "tsne_plot.outline_line_color = None\n",
    "\n",
    "# plot!\n",
    "show(tsne_plot);\n",
    "\n"
   ]
  },
  {
   "cell_type": "code",
   "execution_count": null,
   "metadata": {},
   "outputs": [],
   "source": [
    ""
   ]
  }
 ],
 "metadata": {
  "kernelspec": {
   "display_name": "Python 2",
   "language": "python",
   "name": "python2"
  },
  "language_info": {
   "codemirror_mode": {
    "name": "ipython",
    "version": 2
   },
   "file_extension": ".py",
   "mimetype": "text/x-python",
   "name": "python",
   "nbconvert_exporter": "python",
   "pygments_lexer": "ipython2",
   "version": "2.7.6"
  }
 },
 "nbformat": 4,
 "nbformat_minor": 0
}
