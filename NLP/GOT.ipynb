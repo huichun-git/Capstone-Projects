{
 "cells": [
  {
   "cell_type": "code",
   "execution_count": null,
   "metadata": {},
   "outputs": [],
   "source": [
    "\n",
    "from gensim.utils import simple_preprocess, simple_tokenize #text processing\n",
    "from gensim.models import Word2Vec #prebuilt word to vec implementation\n",
    "import glob #finds all pathnames matching a pattern, like regex\n",
    "import codecs #unicode support when reading files\n",
    "from multiprocessing import cpu_count #use to get number of cpus on host machine"
   ]
  },
  {
   "cell_type": "code",
   "execution_count": 3,
   "metadata": {},
   "outputs": [
    {
     "name": "stdout",
     "output_type": "stream",
     "text": [
      "Found books:\n"
     ]
    },
    {
     "data": {
      "text/plain": [
       "['data/GOT\\\\data_got1.txt',\n",
       " 'data/GOT\\\\data_got2.txt',\n",
       " 'data/GOT\\\\data_got3.txt',\n",
       " 'data/GOT\\\\data_got4.txt',\n",
       " 'data/GOT\\\\data_got5.txt']"
      ]
     },
     "execution_count": 3,
     "metadata": {},
     "output_type": "execute_result"
    }
   ],
   "source": [
    "book_filenames = sorted(glob.glob(\"data/GOT/*.txt\"))\n",
    "print(\"Found books:\")\n",
    "book_filenames"
   ]
  },
  {
   "cell_type": "code",
   "execution_count": 4,
   "metadata": {},
   "outputs": [
    {
     "name": "stdout",
     "output_type": "stream",
     "text": [
      "Corpus is 9719485 characters long\n"
     ]
    }
   ],
   "source": [
    "corpus_raw = u\"\"\n",
    "#for each book, read it, open it un utf 8 format, \n",
    "#add it to the raw corpus\n",
    "for book_filename in book_filenames:\n",
    "    with codecs.open(book_filename, \"r\", \"utf-8\") as book_file:\n",
    "        corpus_raw += book_file.read()\n",
    "\n",
    "print(\"Corpus is {0} characters long\".format(len(corpus_raw)))"
   ]
  },
  {
   "cell_type": "code",
   "execution_count": 6,
   "metadata": {},
   "outputs": [],
   "source": [
    "sentences = corpus_raw.split('\\n') #split at new lines\n",
    "sentences =  filter(None, sentences) # remove empty strings\n",
    "sentences =  list(map(simple_preprocess,sentences)) #clean text "
   ]
  },
  {
   "cell_type": "code",
   "execution_count": 11,
   "metadata": {},
   "outputs": [],
   "source": [
    "workers=cpu_count()\n",
    "model = Word2Vec(sentences, size=300, window=5, min_count=5, workers=workers) #create word2vec model"
   ]
  },
  {
   "cell_type": "code",
   "execution_count": 13,
   "metadata": {},
   "outputs": [
    {
     "data": {
      "text/plain": [
       "11766"
      ]
     },
     "execution_count": 13,
     "metadata": {},
     "output_type": "execute_result"
    }
   ],
   "source": [
    "len(model.wv.vocab) #size of vocab"
   ]
  },
  {
   "cell_type": "code",
   "execution_count": 15,
   "metadata": {},
   "outputs": [
    {
     "data": {
      "text/plain": [
       "(11766, 300)"
      ]
     },
     "execution_count": 15,
     "metadata": {},
     "output_type": "execute_result"
    }
   ],
   "source": [
    "model.wv.vectors.shape  # how we can access the word embeddings matrix"
   ]
  },
  {
   "cell_type": "code",
   "execution_count": 22,
   "metadata": {},
   "outputs": [
    {
     "data": {
      "text/plain": [
       "True"
      ]
     },
     "execution_count": 22,
     "metadata": {},
     "output_type": "execute_result"
    }
   ],
   "source": [
    "'snow' in model.wv.vocab #check if 'space' is in vocab"
   ]
  },
  {
   "cell_type": "code",
   "execution_count": 23,
   "metadata": {},
   "outputs": [
    {
     "data": {
      "text/plain": [
       "array([ 3.71322662e-01,  5.87369502e-01,  5.76531708e-01, -2.94173092e-01,\n",
       "        2.49198228e-01,  7.75276050e-02, -2.05042094e-01,  4.02523607e-01,\n",
       "        1.24497890e-01, -1.21049654e+00, -7.41286814e-01,  1.81025475e-01,\n",
       "        7.47166753e-01,  4.92221504e-01, -2.92573065e-01, -4.59385604e-01,\n",
       "       -6.87930048e-01,  3.99636149e-01, -9.76110637e-01, -7.80443311e-01,\n",
       "        1.69991106e-02,  7.95198977e-01, -7.58907944e-02, -1.21287286e-01,\n",
       "       -3.20774466e-01,  5.59173711e-02,  1.41246212e+00,  4.20744032e-01,\n",
       "       -1.48440465e-01, -1.55406147e-02, -6.03617728e-01, -1.22083855e+00,\n",
       "        4.57578719e-01,  3.47050846e-01, -1.05461374e-01, -7.84770191e-01,\n",
       "       -6.84181213e-01, -3.36129457e-01, -6.37376249e-01,  1.18244238e-01,\n",
       "        2.32397825e-01, -3.89529198e-01,  3.19525987e-01,  1.38509357e+00,\n",
       "        4.33366627e-01, -6.55730903e-01,  6.70348048e-01,  1.06394029e+00,\n",
       "        2.76381016e-01,  5.19534834e-02,  5.61959326e-01,  1.03538513e+00,\n",
       "        3.54425609e-02,  3.14460695e-01,  3.14474106e-01,  6.49852395e-01,\n",
       "       -6.63748205e-01,  4.24260318e-01, -4.87032026e-01,  1.06438212e-02,\n",
       "        1.10889472e-01,  4.54408079e-01,  8.68037879e-01,  5.09872556e-01,\n",
       "       -7.30347559e-02,  1.25871480e-01,  1.83458775e-01, -5.21537364e-01,\n",
       "       -4.71275985e-01, -6.67570770e-01,  2.58867949e-01,  1.57248937e-02,\n",
       "       -7.35905766e-01,  4.02874686e-02, -6.89581454e-01,  3.45661610e-01,\n",
       "       -1.77793175e-01,  7.25205302e-01,  8.59707519e-02,  1.06231487e+00,\n",
       "       -4.65989590e-01, -1.03692138e+00,  3.88325214e-01,  4.78898317e-01,\n",
       "        1.53629214e-01, -3.70015651e-01, -5.09968996e-02, -2.97423571e-01,\n",
       "        1.84375808e-01,  1.32172868e-01,  1.99713916e-01,  1.52340949e-01,\n",
       "       -4.35959876e-01,  4.14446861e-01,  8.30367804e-01, -1.93944424e-01,\n",
       "        2.24629700e-01,  9.02584717e-02,  3.76438409e-01, -4.15989518e-01,\n",
       "        1.89326286e-01, -3.00592184e-02, -2.44152173e-01, -2.54095346e-01,\n",
       "        1.26016533e+00,  2.19310522e-01,  7.21743882e-01,  2.42044210e-01,\n",
       "        1.60094872e-01, -4.22360182e-01,  2.95608282e-01,  6.99474514e-01,\n",
       "       -3.64694506e-01,  6.16143107e-01, -2.59504139e-01, -5.01614287e-02,\n",
       "       -3.82595032e-01, -1.73638150e-01, -1.93624124e-01,  3.70438546e-02,\n",
       "        6.66207194e-01,  3.85304809e-01, -5.71873859e-02,  4.29788411e-01,\n",
       "       -5.77495515e-01, -1.73541270e-02,  2.23644406e-01, -2.71907359e-01,\n",
       "       -1.61843240e-01, -2.96974152e-01,  1.55222446e-01,  5.16704798e-01,\n",
       "       -1.76305041e-01,  3.11134338e-01, -4.41855848e-01,  3.20047289e-01,\n",
       "        6.48991287e-01, -5.50523818e-01, -5.11908494e-02,  1.49592906e-01,\n",
       "       -1.70847610e-01,  4.62639302e-01, -6.04384579e-02,  1.61590114e-01,\n",
       "       -7.14169919e-01, -4.75099474e-01,  6.08287811e-01,  1.59271002e-01,\n",
       "       -1.16602218e+00, -3.17519382e-02,  2.61286467e-01,  8.12760651e-01,\n",
       "       -6.97369874e-01, -4.53161657e-01,  4.04879525e-02,  5.41587889e-01,\n",
       "        7.31312931e-01, -3.44664782e-01, -6.49730384e-01,  8.68098438e-01,\n",
       "        4.37043667e-01, -3.39848429e-01, -3.31239879e-01, -6.23895049e-01,\n",
       "        2.25714564e-01,  6.03924215e-01, -3.70766342e-01,  2.99017336e-02,\n",
       "        1.43879667e-01,  1.20014191e+00,  5.63283861e-01, -3.63919079e-01,\n",
       "        1.40327179e+00,  1.21615998e-01,  1.31238663e+00,  5.03163576e-01,\n",
       "        3.03809404e-01,  4.45524091e-03,  1.37487233e-01,  7.10448444e-01,\n",
       "       -1.25363424e-01, -9.35591817e-01, -6.32748008e-01,  8.10477853e-01,\n",
       "       -3.35888207e-01, -5.60035594e-02,  3.18062156e-01,  2.55592316e-01,\n",
       "       -3.94642174e-01,  1.01338363e+00, -6.01709485e-01,  1.57251004e-02,\n",
       "       -4.23913658e-01,  2.94171780e-01, -3.81951272e-01, -5.97318113e-01,\n",
       "        2.32630223e-01, -1.27007172e-01, -2.51020025e-02, -5.58760643e-01,\n",
       "       -1.02006733e+00, -7.23340455e-03, -1.83264524e-01, -1.11703143e-01,\n",
       "       -2.34166477e-02, -1.06843841e+00,  8.60305607e-01, -2.60598719e-01,\n",
       "       -7.58604556e-02, -2.14857772e-01, -3.41485858e-01, -5.65897301e-02,\n",
       "        5.94295263e-01, -2.62881964e-01,  4.46730144e-02,  7.13106990e-01,\n",
       "        1.09591208e-01,  7.62482166e-01,  5.17118394e-01,  2.96964049e-01,\n",
       "        6.85256943e-02,  2.33832538e-01,  1.27062604e-01, -5.53257048e-01,\n",
       "       -3.07816565e-01, -2.80050576e-01, -2.30845571e-01, -2.75095105e-01,\n",
       "        5.59030175e-01,  8.92014068e-04,  4.07027513e-01,  7.97223151e-01,\n",
       "       -4.07907754e-01,  5.01595438e-01,  5.95111430e-01,  4.82329801e-02,\n",
       "        1.14294454e-01,  2.57820666e-01, -9.07042157e-03,  4.47198093e-01,\n",
       "       -8.39411199e-01,  2.33273491e-01,  1.09889671e-01, -6.79390192e-01,\n",
       "       -2.38285094e-01, -7.17221648e-02, -1.01518679e+00, -7.59155273e-01,\n",
       "       -5.30440152e-01, -3.71050894e-01,  3.20418268e-01, -5.82813859e-01,\n",
       "        1.49682969e-01, -1.16713613e-01,  1.96214408e-01, -3.10144842e-01,\n",
       "        5.69175065e-01,  1.04211497e+00,  3.67756039e-01,  1.47515342e-01,\n",
       "       -4.69788879e-01, -2.89208233e-01, -7.78456628e-01,  4.18917179e-01,\n",
       "        1.21457541e+00, -4.87454921e-01, -8.41372550e-01,  1.98380753e-01,\n",
       "       -1.37213841e-01,  1.23078581e-02, -9.28266570e-02,  7.11748227e-02,\n",
       "        2.24427879e-01,  4.37689647e-02, -1.29229993e-01,  1.19426227e+00,\n",
       "       -1.04294255e-01, -5.53366244e-01, -5.12460530e-01,  4.39750910e-01,\n",
       "       -4.07643944e-01, -2.40071073e-01, -3.36975336e-01, -2.64726400e-01,\n",
       "        4.14372295e-01, -9.52229679e-01,  2.26507083e-01,  1.54466823e-01,\n",
       "        1.25039577e+00,  2.94713508e-02, -1.11203514e-01,  2.20711082e-02,\n",
       "       -2.81677336e-01, -3.00002135e-02, -6.82276547e-01, -5.54349303e-01,\n",
       "        2.86344498e-01, -5.66078067e-01,  1.36486852e+00, -1.42148852e+00],\n",
       "      dtype=float32)"
      ]
     },
     "execution_count": 23,
     "metadata": {},
     "output_type": "execute_result"
    }
   ],
   "source": [
    "model.wv['snow'] #get word vector for man"
   ]
  },
  {
   "cell_type": "code",
   "execution_count": 27,
   "metadata": {},
   "outputs": [
    {
     "data": {
      "text/plain": [
       "[('sister', 0.8614943027496338),\n",
       " ('aunt', 0.7734062671661377),\n",
       " ('husband', 0.7714309692382812),\n",
       " ('wife', 0.7531055808067322),\n",
       " ('daughter', 0.7242030501365662),\n",
       " ('father', 0.7141742706298828),\n",
       " ('brother', 0.7111056447029114),\n",
       " ('daughters', 0.6845688223838806),\n",
       " ('sisters', 0.6797002553939819),\n",
       " ('bride', 0.6733927726745605)]"
      ]
     },
     "execution_count": 27,
     "metadata": {},
     "output_type": "execute_result"
    }
   ],
   "source": [
    "model.wv.most_similar('mother')"
   ]
  },
  {
   "cell_type": "code",
   "execution_count": 31,
   "metadata": {},
   "outputs": [
    {
     "data": {
      "text/plain": [
       "[('queen', 0.6956346035003662),\n",
       " ('prince', 0.6224972009658813),\n",
       " ('princess', 0.5522409677505493),\n",
       " ('targaryen', 0.5088884830474854),\n",
       " ('imp', 0.5050137042999268),\n",
       " ('mother', 0.5020624399185181),\n",
       " ('daenerys', 0.4996476173400879),\n",
       " ('myrcella', 0.49528080224990845),\n",
       " ('stark', 0.49465084075927734),\n",
       " ('elia', 0.48885583877563477)]"
      ]
     },
     "execution_count": 31,
     "metadata": {},
     "output_type": "execute_result"
    }
   ],
   "source": [
    "model.wv.most_similar(positive=['king','woman'], negative=['man']) "
   ]
  },
  {
   "cell_type": "code",
   "execution_count": 32,
   "metadata": {},
   "outputs": [],
   "source": [
    "from sklearn.manifold import TSNE #from dimensionality reduction\n",
    "import pandas as pd "
   ]
  },
  {
   "cell_type": "code",
   "execution_count": 34,
   "metadata": {},
   "outputs": [],
   "source": [
    "n = 3000\n",
    "tsne = TSNE(n_components=2, perplexity=3,random_state=0)\n",
    "tsne_vectors = tsne.fit_transform(model.wv.vectors[:n])"
   ]
  },
  {
   "cell_type": "code",
   "execution_count": 36,
   "metadata": {},
   "outputs": [],
   "source": [
    "words = model.wv.index2word[:n]"
   ]
  },
  {
   "cell_type": "code",
   "execution_count": 20,
   "metadata": {},
   "outputs": [],
   "source": [
    "from bokeh.plotting import figure, show, output_notebook\n",
    "from bokeh.models import HoverTool, ColumnDataSource, value\n",
    "output_notebook()\n",
    "\n",
    "# cells below this should be copied again in local host"
   ]
  },
  {
   "cell_type": "code",
   "execution_count": null,
   "metadata": {},
   "outputs": [],
   "source": [
    "#create a dataframe to plot with\n",
    "df = pd.DataFrame(tsne_vectors,index=words,columns=['x_coord','y_coord'])\n",
    "df.index.name = 'word'\n",
    "df.head()"
   ]
  },
  {
   "cell_type": "code",
   "execution_count": null,
   "metadata": {},
   "outputs": [],
   "source": [
    "# add our DataFrame as a ColumnDataSource for Bokeh\n",
    "plot_data = ColumnDataSource(df)\n",
    "\n",
    "# create the plot and configure the\n",
    "# title, dimensions, and tools\n",
    "tsne_plot = figure(title=u't-SNE Word Embeddings',\n",
    "                   plot_width = 800,\n",
    "                   plot_height = 800,\n",
    "                   tools= (u'pan, wheel_zoom, box_zoom,'\n",
    "                           u'box_select, reset'),\n",
    "                   active_scroll=u'wheel_zoom')"
   ]
  },
  {
   "cell_type": "code",
   "execution_count": null,
   "metadata": {},
   "outputs": [],
   "source": [
    "# add a hover tool to display words on roll-over\n",
    "tsne_plot.add_tools( HoverTool(tooltips = u'@word') )\n",
    "\n",
    "# draw the words as circles on the plot\n",
    "tsne_plot.circle(u'x_coord', u'y_coord', source=plot_data,\n",
    "                 color=u'blue', line_alpha=0.2, fill_alpha=0.1,\n",
    "                 size=10, hover_line_color=u'black')\n",
    "\n",
    "# configure visual elements of the plot\n",
    "tsne_plot.title.text_font_size = value(u'16pt')\n",
    "tsne_plot.xaxis.visible = False\n",
    "tsne_plot.yaxis.visible = False\n",
    "tsne_plot.grid.grid_line_color = None\n",
    "tsne_plot.outline_line_color = None\n",
    "\n",
    "# plot!\n",
    "show(tsne_plot);"
   ]
  },
  {
   "cell_type": "code",
   "execution_count": null,
   "metadata": {},
   "outputs": [],
   "source": []
  }
 ],
 "metadata": {
  "kernelspec": {
   "display_name": "Python 3",
   "language": "python",
   "name": "python3"
  },
  "language_info": {
   "codemirror_mode": {
    "name": "ipython",
    "version": 3
   },
   "file_extension": ".py",
   "mimetype": "text/x-python",
   "name": "python",
   "nbconvert_exporter": "python",
   "pygments_lexer": "ipython3",
   "version": "3.6.4"
  }
 },
 "nbformat": 4,
 "nbformat_minor": 1
}
