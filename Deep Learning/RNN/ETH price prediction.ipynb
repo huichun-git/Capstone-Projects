{
 "cells": [
  {
   "cell_type": "code",
   "execution_count": null,
   "metadata": {},
   "outputs": [],
   "source": [
    "from keras.layers.core import Dense, Activation, Dropout\n",
    "from keras.layers.recurrent import LSTM\n",
    "from keras.models import Sequential\n",
    "import lstm\n",
    "from keras.layers import BatchNormalization,MaxPooling1D,AveragePooling1D"
   ]
  },
  {
   "cell_type": "code",
   "execution_count": null,
   "metadata": {},
   "outputs": [],
   "source": [
    "X_train, y_train, X_test, y_test = lstm.load_data('Price.csv', 3, False)"
   ]
  },
  {
   "cell_type": "code",
   "execution_count": null,
   "metadata": {},
   "outputs": [],
   "source": [
    "model = Sequential()\n",
    "\n",
    "model.add(LSTM(\n",
    "    input_dim=1,\n",
    "    output_dim=16,\n",
    "    return_sequences=True))\n",
    "model.add(BatchNormalization(axis=-1, \n",
    "                             momentum=0.99, \n",
    "                             epsilon=0.001, \n",
    "                             center=True, \n",
    "                             scale=True, \n",
    "                             beta_initializer='zeros', \n",
    "                             gamma_initializer='ones', \n",
    "                             moving_mean_initializer='zeros', \n",
    "                             moving_variance_initializer='ones', \n",
    "                             beta_regularizer=None, \n",
    "                             gamma_regularizer=None, \n",
    "                             beta_constraint=None, \n",
    "                             gamma_constraint=None))\n",
    "model.add(MaxPooling1D(pool_size=5, strides=None, padding='same'))\n",
    "model.add(Dropout(0.1))\n",
    "model.add(LSTM(\n",
    "    640,\n",
    "    return_sequences=False))\n",
    "\n",
    "model.add(Dropout(0.2))\n",
    "\n",
    "model.add(Dense(\n",
    "    output_dim=1))\n",
    "model.add(Activation('linear'))\n",
    "model.compile(loss='mse', optimizer='rmsprop')"
   ]
  },
  {
   "cell_type": "code",
   "execution_count": null,
   "metadata": {},
   "outputs": [],
   "source": [
    "model.fit(\n",
    "    X_train,\n",
    "    y_train,\n",
    "    batch_size=10,\n",
    "    nb_epoch=30,\n",
    "    validation_data=(X_test,y_test))"
   ]
  },
  {
   "cell_type": "code",
   "execution_count": null,
   "metadata": {},
   "outputs": [],
   "source": [
    "import h5py\n",
    "model.save('rnnmodel2.h5')\n",
    "del model  # deletes the existing model"
   ]
  }
 ],
 "metadata": {
  "kernelspec": {
   "display_name": "Python 2",
   "language": "python",
   "name": "python2"
  },
  "language_info": {
   "codemirror_mode": {
    "name": "ipython",
    "version": 2
   },
   "file_extension": ".py",
   "mimetype": "text/x-python",
   "name": "python",
   "nbconvert_exporter": "python",
   "pygments_lexer": "ipython2",
   "version": "2.7.6"
  }
 },
 "nbformat": 4,
 "nbformat_minor": 0
}
